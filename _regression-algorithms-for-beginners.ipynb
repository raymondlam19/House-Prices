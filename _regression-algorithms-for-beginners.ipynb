{
 "cells": [
  {
   "cell_type": "markdown",
   "metadata": {
    "_cell_guid": "e81ee64d-e474-4662-9036-ce23df615199",
    "_uuid": "b6269c0e8f417f82daf093dda8fa0da6d2c57d86"
   },
   "source": [
    "# Regression algorithms for predicting housing prices on Iowa data.\n",
    "\n",
    "## Contents\n",
    " [Decision Tree](#decisiontree)\n",
    " \n",
    " [Random Forest prediction with select features](#randomforest)\n",
    " \n",
    " [Random Forest prediction with all features](#randomforestparams)\n",
    "\n",
    "[XGBoost](#XGBoost)\n",
    " \n",
    " [XGBoost with parameters](#xgboostparams)  \n",
    " \n",
    " [Gradient Boosting](#gradientboosting)  \n",
    " \n",
    " [Gradient Boosting with params](#gradientboostingparams) \n",
    " \n",
    " [Partial Dependence based on gradient boosting regressor](#pd) \n",
    " \n",
    " [Decomposition with Principal Component Analysis and gradient boosting](#pca) \n",
    " \n",
    " [Piplelines with Gradient boosting](#piplelines) \n",
    " \n",
    " [LightGBM](#lightgbm)\n",
    " \n",
    " [Sequential model with 3 dense layers](#sequential)"
   ]
  },
  {
   "cell_type": "code",
   "execution_count": 2,
   "metadata": {
    "_cell_guid": "57b4a4cd-8f89-4f82-8dee-21f56e68dfb9",
    "_uuid": "069b5fa3f26d958a9b5ec0742226ffc0f14d5053"
   },
   "outputs": [],
   "source": [
    "import pandas as pd\n",
    "from sklearn.tree import DecisionTreeRegressor\n",
    "from sklearn.metrics import mean_absolute_error\n",
    "from sklearn.metrics import mean_squared_error\n",
    "from sklearn.model_selection import train_test_split\n",
    "from sklearn.ensemble import RandomForestRegressor\n",
    "from sklearn.ensemble import GradientBoostingRegressor\n",
    "from sklearn.ensemble.partial_dependence import plot_partial_dependence,partial_dependence\n",
    "from sklearn.pipeline import make_pipeline\n",
    "from sklearn.model_selection import cross_val_score\n",
    "from sklearn.decomposition import PCA \n",
    "from sklearn.preprocessing import Imputer\n",
    "from matplotlib import pyplot as plt\n",
    "from xgboost import XGBRegressor\n",
    "import numpy as np\n",
    "import math\n",
    "# import lightgbm as lgb\n",
    "import tensorflow as tf "
   ]
  },
  {
   "cell_type": "markdown",
   "metadata": {
    "_uuid": "205a46de7a8e894202053c40356a2a7749c3cc10"
   },
   "source": [
    "<a id=\"headin\"></a>"
   ]
  },
  {
   "cell_type": "markdown",
   "metadata": {
    "_uuid": "a65e8cb25130c367d4446c0bbf4b7fec1e36dd50"
   },
   "source": [
    "<h3 id=\"decisiontree\">Decision Tree</h3>"
   ]
  },
  {
   "cell_type": "code",
   "execution_count": 3,
   "metadata": {
    "_cell_guid": "1ce9c27d-ef6b-4128-a564-69287fcf6006",
    "_uuid": "f17a1fb3ff5de73bec863c53d88e47589f183545"
   },
   "outputs": [],
   "source": [
    "test = pd.read_csv(\"./input/raw/test.csv\")\n",
    "train = pd.read_csv(\"./input/raw/train.csv\")"
   ]
  },
  {
   "cell_type": "code",
   "execution_count": 4,
   "metadata": {
    "_cell_guid": "44294e7a-61a0-46ce-ad44-80f8f97bb425",
    "_uuid": "f2c08a1f424da22284c926fcf60bff9e6b7d0b07"
   },
   "outputs": [],
   "source": [
    "X = train.drop(['SalePrice'],axis=1)\n",
    "y = train.SalePrice\n",
    "#print (X.SalePrice)\n",
    "val_X = test[list(test)]\n"
   ]
  },
  {
   "cell_type": "code",
   "execution_count": 5,
   "metadata": {
    "_cell_guid": "f7292ece-5743-4aad-81e9-21709cd1f16f",
    "_uuid": "f2250bb76d2b5b631d50e4d9954bb831d5eaeacb"
   },
   "outputs": [],
   "source": [
    "\n",
    "one_hot_pred = pd.get_dummies(X)\n",
    "one_hot_encoded_test_predictors = pd.get_dummies(val_X)\n",
    "final_train, final_test = one_hot_pred.align(one_hot_encoded_test_predictors,\n",
    "                                                                    join='left', \n",
    "                                                                    axis=1)"
   ]
  },
  {
   "cell_type": "code",
   "execution_count": 6,
   "metadata": {
    "_cell_guid": "e5753bc5-e92e-47b1-8366-a67a640f6b44",
    "_uuid": "3b45b2aeb390bda8b45a0e357cf37d983b4d588f"
   },
   "outputs": [
    {
     "name": "stderr",
     "output_type": "stream",
     "text": [
      "D:\\Anaconda3\\envs\\tensorflow\\lib\\site-packages\\sklearn\\utils\\deprecation.py:66: DeprecationWarning: Class Imputer is deprecated; Imputer was deprecated in version 0.20 and will be removed in 0.22. Import impute.SimpleImputer from sklearn instead.\n",
      "  warnings.warn(msg, category=DeprecationWarning)\n"
     ]
    }
   ],
   "source": [
    "my_imputer = Imputer()\n",
    "imputed_X_train = my_imputer.fit_transform(final_train)\n",
    "imputed_X_test = my_imputer.transform(final_test)\n"
   ]
  },
  {
   "cell_type": "code",
   "execution_count": 7,
   "metadata": {
    "_cell_guid": "9a171542-f137-4233-87d4-56136edd24bc",
    "_uuid": "56984e2b4c4150eb968e30e4e95cb8502573e805"
   },
   "outputs": [],
   "source": [
    "new_dt_model=DecisionTreeRegressor()\n",
    "\n",
    "new_dt_model.fit(imputed_X_train,y)\n",
    "\n",
    "dt_predictions=new_dt_model.predict(imputed_X_test)\n"
   ]
  },
  {
   "cell_type": "code",
   "execution_count": null,
   "metadata": {
    "_cell_guid": "ae4e0829-c225-41d6-8576-a17890acbcad",
    "_uuid": "592c5ea419151f2d9f9dbdc54993a44bc1f5bc0e"
   },
   "outputs": [],
   "source": [
    "my_submission=pd.DataFrame({'ID': test.Id, 'SalePrice': dt_predictions})\n",
    "\n",
    "my_submission.to_csv('dy_submission.csv',index=False)"
   ]
  },
  {
   "cell_type": "markdown",
   "metadata": {
    "_cell_guid": "4542d6d0-ffc2-49b7-bb22-53129b9ece5c",
    "_uuid": "90234c1e89b894f77988e71d8ec22b4364c82cb9"
   },
   "source": [
    "**Score: 0.20626**"
   ]
  },
  {
   "cell_type": "markdown",
   "metadata": {
    "_uuid": "92a7ddeef38b7e9ca18be57cfcb8b3b3bbd1ea0c"
   },
   "source": [
    "<h3 id=\"randomforest\">Random Forest prediction with select features</h3>"
   ]
  },
  {
   "cell_type": "code",
   "execution_count": null,
   "metadata": {
    "_cell_guid": "8161b4c8-2b0f-4082-bff3-aae34af96a76",
    "_uuid": "630090f29060d91f2192f8653bd262fa70b560b6"
   },
   "outputs": [],
   "source": [
    "from sklearn.ensemble import RandomForestRegressor\n",
    "import pandas as pd\n",
    "\n",
    "train = pd.read_csv('../input/train.csv')\n",
    "train_y=train.SalePrice\n",
    "predictor_cols=['LotArea', 'OverallQual', 'YearBuilt', 'TotRmsAbvGrd']\n",
    "train_X=train[predictor_cols]\n",
    "forest_model=RandomForestRegressor()\n",
    "forest_model.fit(train_X,train_y)\n",
    "test= pd.read_csv('../input/test.csv')\n",
    "test_X=test[predictor_cols]\n",
    "predicted_prices=forest_model.predict(test_X)\n",
    "#print(predicted_prices)"
   ]
  },
  {
   "cell_type": "code",
   "execution_count": null,
   "metadata": {
    "_cell_guid": "a81ea21e-ed63-414d-8f68-1a1a85a88161",
    "_uuid": "6c2aedb3407279daf30dc2a16b09499ba6a0cffb"
   },
   "outputs": [],
   "source": [
    "my_submission=pd.DataFrame({'ID': test.Id, 'SalePrice': predicted_prices})\n",
    "my_submission.to_csv('submission.csv',index=False)"
   ]
  },
  {
   "cell_type": "markdown",
   "metadata": {
    "_cell_guid": "69a0c8b6-db21-48ac-922d-2f70269753e9",
    "_uuid": "714097712eb0f6dca3a12ffd83f6e74749f2b2c1",
    "collapsed": true
   },
   "source": [
    " **Score: 0.19192**"
   ]
  },
  {
   "cell_type": "markdown",
   "metadata": {
    "_cell_guid": "b4c3cc08-880c-4f9b-abe2-459370c4086e",
    "_uuid": "4af955426307f437b81dca1df5f278761b2b4f88"
   },
   "source": [
    "<h3 id=\"randomforestparams\">Random Forest prediction with all features</h3>"
   ]
  },
  {
   "cell_type": "code",
   "execution_count": null,
   "metadata": {
    "_cell_guid": "2ed509fa-27e5-4a6a-9743-112574cadfe5",
    "_uuid": "24d44c921b2e46bf6f7013ac9bc3c72ecc4bb39f"
   },
   "outputs": [],
   "source": [
    "X = train.drop(['SalePrice'],axis=1)\n",
    "y = train.SalePrice\n",
    "#print (X.SalePrice)\n",
    "val_X = test[list(test)]"
   ]
  },
  {
   "cell_type": "code",
   "execution_count": null,
   "metadata": {
    "_cell_guid": "1ec79a4b-365f-4cf3-82a7-e75a6a13e168",
    "_uuid": "0c4fe67daa37c8547d3a9393ac91c56676f3429e",
    "scrolled": true
   },
   "outputs": [],
   "source": [
    "one_hot_pred = pd.get_dummies(X)\n",
    "one_hot_encoded_test_predictors = pd.get_dummies(val_X)\n",
    "final_train, final_test = one_hot_pred.align(one_hot_encoded_test_predictors, join = 'left',axis = 1)"
   ]
  },
  {
   "cell_type": "code",
   "execution_count": null,
   "metadata": {
    "_cell_guid": "fc9279b8-75e4-411c-8d75-f36b448e2aa7",
    "_uuid": "c6de250256096193ee14dcff79326645257e9aa6"
   },
   "outputs": [],
   "source": [
    "my_imputer = Imputer()\n",
    "imputed_X_train_plus = my_imputer.fit_transform(final_train)\n",
    "imputed_X_test_plus = my_imputer.transform(final_test)"
   ]
  },
  {
   "cell_type": "code",
   "execution_count": null,
   "metadata": {
    "_cell_guid": "494998d7-7f3c-4c88-8ef0-a3a5b4cb42c0",
    "_uuid": "3d2a0ff409c67d47aaf07e5bd2990ba67ed32907"
   },
   "outputs": [],
   "source": [
    "imp_model = RandomForestRegressor()\n",
    "imp_model.fit(imputed_X_train_plus,y)\n",
    "imp_model_prices = imp_model.predict(imputed_X_test_plus)"
   ]
  },
  {
   "cell_type": "code",
   "execution_count": null,
   "metadata": {
    "_cell_guid": "e0c29eab-d590-476e-aa7a-e144aeb4e6fd",
    "_kg_hide-output": false,
    "_uuid": "01d7ded1551285f82857a13fd116701980787da4"
   },
   "outputs": [],
   "source": [
    "my_submission=pd.DataFrame({'ID': test.Id, 'SalePrice': imp_model_prices})\n",
    "\n",
    "my_submission.to_csv('imp_submission.csv',index=False)"
   ]
  },
  {
   "cell_type": "markdown",
   "metadata": {
    "_cell_guid": "907f93d6-5abf-488a-b897-6ca46a3b9105",
    "_uuid": "35f01b797b6cd5c5874e78a2aca0800ded33c562"
   },
   "source": [
    "**Score:0.15124**"
   ]
  },
  {
   "cell_type": "markdown",
   "metadata": {
    "_cell_guid": "66bbfdea-1686-4711-af73-e853b0280af2",
    "_uuid": "3385d7bca7557e2b3b921d5a74a20dc7787f8cd8"
   },
   "source": [
    "<h3 id=\"XGBoost\">XGBoost</h3>"
   ]
  },
  {
   "cell_type": "code",
   "execution_count": null,
   "metadata": {
    "_cell_guid": "4a5aa5e8-d4fd-4e5b-8986-d49be8989c6e",
    "_uuid": "d465f51aecf648fb77935115029aa2c2eaa99c7c"
   },
   "outputs": [],
   "source": [
    "xgb_model = XGBRegressor()\n",
    "xgb_model.fit(imputed_X_train_plus,y)\n",
    "xgb_pred_prices = xgb_model.predict(imputed_X_test_plus)"
   ]
  },
  {
   "cell_type": "code",
   "execution_count": null,
   "metadata": {
    "_cell_guid": "0fe22182-3ce3-41cc-b0a2-b2d2a2ec273f",
    "_uuid": "21f0b17125c7fbf6810a5aefc142dd05dbd85c5f"
   },
   "outputs": [],
   "source": [
    "my_submission=pd.DataFrame({'ID': test.Id, 'SalePrice': xgb_pred_prices})\n",
    "\n",
    "my_submission.to_csv('xgboost_submission.csv',index=False)"
   ]
  },
  {
   "cell_type": "markdown",
   "metadata": {
    "_cell_guid": "79b99bd2-e4ac-4dda-ae7e-5de02bc5c3b0",
    "_uuid": "bf93b4ed74cdcde34bc2d43bec974c0d590c8dd2",
    "collapsed": true
   },
   "source": [
    "**Score:0.13520**"
   ]
  },
  {
   "cell_type": "markdown",
   "metadata": {
    "_cell_guid": "ef21c1e9-3fc7-45d2-a0b6-10fd95917f34",
    "_uuid": "e5e9a71d484a40308c4f5aa978a991e28a95183e"
   },
   "source": [
    "<h3 id=\"xgboostparams\">XGBoost with  parameters</h3>"
   ]
  },
  {
   "cell_type": "code",
   "execution_count": null,
   "metadata": {
    "_cell_guid": "f946d95d-4262-488d-9d60-9fb8082c05b2",
    "_uuid": "762ddaa622568893aaf1ba994e324c0713682cf7"
   },
   "outputs": [],
   "source": [
    "train_X, test_X, train_y, test_y = train_test_split(imputed_X_train_plus,\n",
    "                                                    y, test_size=0.25)\n",
    "xgb_plus_model = XGBRegressor(n_estimators=1000, learning_rate=0.5)\n"
   ]
  },
  {
   "cell_type": "code",
   "execution_count": null,
   "metadata": {
    "_cell_guid": "e4c557d3-1445-48a2-abad-cf7b5aea88c2",
    "_uuid": "0a46adcd69ddf6a7981299eee095789a27a0b170"
   },
   "outputs": [],
   "source": [
    "xgb_plus_model.fit(train_X, train_y, early_stopping_rounds=10,\n",
    "                    eval_set=[(test_X, test_y)], verbose=False)\n",
    "xgb_plus_prices = xgb_plus_model.predict(imputed_X_test_plus)\n"
   ]
  },
  {
   "cell_type": "code",
   "execution_count": null,
   "metadata": {
    "_cell_guid": "21a951d2-75db-4f2a-b594-9cd6220becca",
    "_uuid": "96b31bf95a86679b14758084a8e6c16dd0fd5f2f"
   },
   "outputs": [],
   "source": [
    "my_submission=pd.DataFrame({'ID': test.Id, 'SalePrice': xgb_plus_prices})\n",
    "\n",
    "my_submission.to_csv('xgboost_plus_submission.csv',index=False)"
   ]
  },
  {
   "cell_type": "markdown",
   "metadata": {
    "_cell_guid": "f74dcd02-4b51-4575-b782-d018ee79d241",
    "_uuid": "cf74ce1632f099dc6b6c115f4d78349078387d14",
    "collapsed": true
   },
   "source": [
    "**Score:0.15490**"
   ]
  },
  {
   "cell_type": "markdown",
   "metadata": {
    "_cell_guid": "721d1648-57fe-44a8-bac2-b05dea200b18",
    "_uuid": "c5cb0679cc0d3ebd223779dab2bf6163ea41fd6b"
   },
   "source": [
    "<h3 id=\"gradientboosting\">Gradient Boosting</h3>"
   ]
  },
  {
   "cell_type": "code",
   "execution_count": null,
   "metadata": {
    "_cell_guid": "73318685-6ec1-4fc9-9995-5dc742b37b9a",
    "_uuid": "e4fed2c1aa8edb8897b6e6a05103fce7689c80e5"
   },
   "outputs": [],
   "source": [
    "gb_model = GradientBoostingRegressor()\n",
    "gb_model.fit(imputed_X_train_plus,y)\n",
    "gb_pred_prices = gb_model.predict(imputed_X_test_plus)"
   ]
  },
  {
   "cell_type": "code",
   "execution_count": null,
   "metadata": {
    "_cell_guid": "96395691-fe64-4092-a86a-e7ef08fa9ac3",
    "_uuid": "eec17f0e1cb70f1d4ccda7dbe766ca7b9a4822e3"
   },
   "outputs": [],
   "source": [
    "my_submission=pd.DataFrame({'ID': test.Id, 'SalePrice': gb_pred_prices})\n",
    "my_submission.to_csv('gboost_submission.csv',index=False)"
   ]
  },
  {
   "cell_type": "markdown",
   "metadata": {
    "_cell_guid": "fd059b73-d0df-469a-807d-268e28c271a5",
    "_uuid": "f4f42e0d4aa3a30a6fcda6829fe76b10bddadf3f"
   },
   "source": [
    "**Score: 0.13471**"
   ]
  },
  {
   "cell_type": "markdown",
   "metadata": {
    "_cell_guid": "363a3495-62b2-4ea8-91e7-c9e201a90a8a",
    "_uuid": "7f08a35eb1369c5617ad924b5546eff473750c77"
   },
   "source": [
    "<h3 id=\"gradientboostingparams\">Gradient Boosting with params</h3>"
   ]
  },
  {
   "cell_type": "code",
   "execution_count": null,
   "metadata": {
    "_cell_guid": "4689e457-af0e-4c37-93eb-7e8448b7f894",
    "_uuid": "cb4a7f2d4a1ea6e286d6cd5b433e3cbff5650a3d"
   },
   "outputs": [],
   "source": [
    "gb_plus_model = GradientBoostingRegressor(n_estimators=10000, learning_rate=0.01)\n",
    "gb_plus_model.fit(imputed_X_train_plus,y)\n",
    "gb_plus_pred_prices = gb_plus_model.predict(imputed_X_test_plus)\n",
    "print(gb_plus_pred_prices)"
   ]
  },
  {
   "cell_type": "code",
   "execution_count": null,
   "metadata": {
    "_cell_guid": "8375c314-b49d-410e-a2b1-1c7965d93b39",
    "_uuid": "d2f8a1ff5d7051a70e14a140e1b80cb5cde653cf"
   },
   "outputs": [],
   "source": [
    "my_submission = pd.DataFrame({'ID': test.Id, 'SalePrice': gb_plus_pred_prices})\n",
    "my_submission.to_csv('gboost_plus_submission.csv',index=False)"
   ]
  },
  {
   "cell_type": "markdown",
   "metadata": {
    "_cell_guid": "16fd9bd7-830b-4b43-a828-f0be4a2c6cc5",
    "_uuid": "bf062da3321f925d388a7a9c1939d42e230ec36d"
   },
   "source": [
    "**Score: 0.13457**"
   ]
  },
  {
   "cell_type": "markdown",
   "metadata": {
    "_cell_guid": "ae698215-e0e9-4928-89c8-a66ccfc6169b",
    "_uuid": "73dcfeb9cc954c8f98499596e095ed5e3c8ef6a1"
   },
   "source": [
    "##Partial Dependence based on gradient boosting regressor<a name=\"pd\"></a>"
   ]
  },
  {
   "cell_type": "code",
   "execution_count": null,
   "metadata": {
    "_cell_guid": "804f4128-d857-4738-b667-ff1abfa3fab3",
    "_uuid": "1fe0c3bce9c795f501f0d2a3633662194d8ceea8"
   },
   "outputs": [],
   "source": [
    "fig ,axs = plot_partial_dependence(gb_plus_model,\n",
    "                                      features=[0,1,2,3,4,5,6,7,8],\n",
    "                                      X=imputed_X_train_plus,\n",
    "                                      feature_names=['GarageType','CentralAir','1stFlrSF','2stFlrSF','Alley','Street','MSSubClass','LotArea','RoofMatl'],\n",
    "                                      grid_resolution=100)\n",
    "\n",
    "plt.subplots_adjust(top=2.5,right=2.5)"
   ]
  },
  {
   "cell_type": "markdown",
   "metadata": {
    "_uuid": "ce6b8c66c2726be2b168272b412e3633bf3612dd"
   },
   "source": [
    "<h3 id=\"pca\">Decomposition with Principal Component Analysis and gradient boosting</h3>"
   ]
  },
  {
   "cell_type": "code",
   "execution_count": null,
   "metadata": {
    "_cell_guid": "09908382-86a7-418f-bfb2-c31ca12ad195",
    "_uuid": "94f1478083ad8d3649ddfefdc9a80229cb67e092"
   },
   "outputs": [],
   "source": [
    "pca = PCA().fit(imputed_X_train_plus)\n",
    "plt.plot(np.cumsum(pca.explained_variance_ratio_))\n",
    "plt.xlim(0,10,1)\n"
   ]
  },
  {
   "cell_type": "code",
   "execution_count": null,
   "metadata": {
    "_cell_guid": "a565a7e5-dff9-4910-864c-8c188e968207",
    "_uuid": "1a4b60a8e9dcd7a30081dbdc77c7cdb198d2de42"
   },
   "outputs": [],
   "source": [
    "sklearn_pca = PCA(n_components=14)\n",
    "print(sklearn_pca)"
   ]
  },
  {
   "cell_type": "code",
   "execution_count": null,
   "metadata": {
    "_cell_guid": "8d2f2a73-6b3d-4a4a-bccf-25242163d145",
    "_uuid": "86d597c75a2c7b058c5df9047f554585a6b2669c"
   },
   "outputs": [],
   "source": [
    "X_sklearn = sklearn_pca.fit_transform(imputed_X_train_plus)\n",
    "print(X_sklearn.shape)\n",
    "\n",
    "X_test_sklearn=sklearn_pca.transform(imputed_X_test_plus)\n",
    "print(X_test_sklearn.shape)"
   ]
  },
  {
   "cell_type": "code",
   "execution_count": null,
   "metadata": {
    "_cell_guid": "f4db9776-c378-43db-81a4-a3f73ee6300a",
    "_uuid": "2e7f0f6f36c8e4816b8538f3b1b43b05c1221224",
    "scrolled": true
   },
   "outputs": [],
   "source": [
    "pca_gb_plus_model = GradientBoostingRegressor(n_estimators=1000, learning_rate=0.01)\n",
    "pca_gb_plus_model.fit(X_sklearn,y)\n",
    "pca_gb_plus_pred_prices = pca_gb_plus_model.predict(X_test_sklearn)\n",
    "print(pca_gb_plus_pred_prices)"
   ]
  },
  {
   "cell_type": "code",
   "execution_count": null,
   "metadata": {
    "_cell_guid": "54499850-04d2-4569-93b4-f609dc4e8f0b",
    "_uuid": "732fcced3b51498703b8e7215c70dcfe91868ce7"
   },
   "outputs": [],
   "source": [
    "my_submission = pd.DataFrame({'ID': test.Id, 'SalePrice': pca_gb_plus_pred_prices})\n",
    "\n",
    "my_submission.to_csv('pca_gb_plus_submission.csv',index=False)"
   ]
  },
  {
   "cell_type": "markdown",
   "metadata": {
    "_cell_guid": "4c30b93c-07d0-4f26-87e4-4418fe65e132",
    "_uuid": "939c5c2fd08e1e3626e5f43f8cac51e417c824fd"
   },
   "source": [
    "<h3 id=\"pipelines\">Piplelines with Gradient boosting</h3>"
   ]
  },
  {
   "cell_type": "code",
   "execution_count": null,
   "metadata": {
    "_cell_guid": "b7f721cb-877d-472f-9e3b-d61187b6c18d",
    "_uuid": "8e2e8ffbf2ba005eacabf5b0a851a2020bcece08"
   },
   "outputs": [],
   "source": [
    "my_pipeline= make_pipeline(Imputer(),GradientBoostingRegressor(n_estimators=1000, learning_rate=0.01))\n",
    "\n",
    "print(cross_val_score(my_pipeline, imputed_X_train_plus, y, scoring = \"neg_mean_absolute_error\"))\n",
    "my_pipeline.fit(imputed_X_train_plus,y)\n",
    "pipe_line_predictions=my_pipeline.predict(imputed_X_test_plus)\n",
    "\n"
   ]
  },
  {
   "cell_type": "code",
   "execution_count": null,
   "metadata": {
    "_cell_guid": "25f8579d-063e-45b5-8095-29d59519f1d9",
    "_uuid": "464d212e97453642194763d3eb0e9b559a9e425e"
   },
   "outputs": [],
   "source": [
    "my_submission = pd.DataFrame({'ID': test.Id, 'SalePrice': pipe_line_predictions})\n",
    "\n",
    "my_submission.to_csv('pipe_line_predictions.csv',index=False)"
   ]
  },
  {
   "cell_type": "markdown",
   "metadata": {
    "_cell_guid": "92705a15-d956-49d7-b3c3-0baad904d9f6",
    "_uuid": "b7e08c54e525f3aaf8009cf41623717752ece429"
   },
   "source": [
    "<h3 id=\"lightgbm\">LightGBM</h3>"
   ]
  },
  {
   "cell_type": "code",
   "execution_count": null,
   "metadata": {
    "_cell_guid": "3fe99939-b9f0-41a9-82ff-09aec61d71c9",
    "_uuid": "86ed8a28618e2d206fbcfd3a3d519545e0deb427"
   },
   "outputs": [],
   "source": [
    "lgb_dataSet=lgb.Dataset(imputed_X_train_plus, label=y)\n",
    "params={\n",
    "    'learning_rate':0.1,\n",
    "    'boosting_type':'gbdt',\n",
    "    'objective':'regression',\n",
    "    'sub_features':0.5,\n",
    "    'num_leaves':10000,\n",
    "    'min_data':100,\n",
    "    'max_depth':1000,\n",
    "}"
   ]
  },
  {
   "cell_type": "code",
   "execution_count": null,
   "metadata": {
    "_cell_guid": "fba19015-df61-4984-9cfe-2d7f45932b78",
    "_uuid": "1796d57167b2c684842fe81e7df607a8d0243391",
    "scrolled": false
   },
   "outputs": [],
   "source": [
    "lgb_model=lgb.train(params,lgb_dataSet, num_boost_round=10000)\n",
    "#print(lgb_model.best_iteration)\n",
    "lgb_pred_prices= lgb_model.predict(imputed_X_test_plus, num_iteration= 10000)"
   ]
  },
  {
   "cell_type": "code",
   "execution_count": null,
   "metadata": {
    "_cell_guid": "17c47ee9-95b2-43c4-8bc6-49696fc296f3",
    "_uuid": "cffc64b6fa23490237161c66a0343c99503e7e21"
   },
   "outputs": [],
   "source": [
    "my_submission = pd.DataFrame({'ID': test.Id, 'SalePrice': lgb_pred_prices})\n",
    "\n",
    "my_submission.to_csv('lgb_pred.csv',index=False)"
   ]
  },
  {
   "cell_type": "markdown",
   "metadata": {
    "_uuid": "b676ffc3b34c00f01a351faed5278077dad47abc"
   },
   "source": [
    "<h3 id=\"sequential\">Sequential model with 3 dense layers</h3>"
   ]
  },
  {
   "cell_type": "code",
   "execution_count": null,
   "metadata": {
    "_uuid": "c419d61efd6df9656ca7d96afd5d96f2d4d0ca90"
   },
   "outputs": [],
   "source": [
    "import numpy as np\n",
    "import pandas as pd\n",
    "from sklearn.model_selection import train_test_split\n",
    "from tensorflow.python import keras\n",
    "from tensorflow.python.keras.models import Sequential\n",
    "from keras.utils import to_categorical\n",
    "from keras import optimizers\n",
    "from sklearn.preprocessing import OneHotEncoder\n",
    "import tensorflow as tf"
   ]
  },
  {
   "cell_type": "code",
   "execution_count": null,
   "metadata": {
    "_uuid": "fbc86ca60f2b9a18c5f1a4223dcde731976a6472"
   },
   "outputs": [],
   "source": [
    "test = pd.read_csv(\"../input/test.csv\")\n",
    "train = pd.read_csv(\"../input/train.csv\")"
   ]
  },
  {
   "cell_type": "code",
   "execution_count": null,
   "metadata": {
    "_uuid": "cf37c693f6d9cc3cae3e971eab21811563e1d5a2"
   },
   "outputs": [],
   "source": [
    "train = train.dropna(axis=1)"
   ]
  },
  {
   "cell_type": "code",
   "execution_count": null,
   "metadata": {
    "_uuid": "8d30cb426a573a07a732c9a02022fb6ce1c282a9"
   },
   "outputs": [],
   "source": [
    "X = train.copy()\n",
    "X = X.drop(\"SalePrice\",axis=1)"
   ]
  },
  {
   "cell_type": "code",
   "execution_count": null,
   "metadata": {
    "_uuid": "51cf99f7f392a7a9fa0ef6369c2354b8b3ce1b93"
   },
   "outputs": [],
   "source": [
    "y = train[\"SalePrice\"]"
   ]
  },
  {
   "cell_type": "code",
   "execution_count": null,
   "metadata": {
    "_uuid": "597bfc5ae7384933e1c8cd01ae995d17a752f7e6"
   },
   "outputs": [],
   "source": []
  },
  {
   "cell_type": "code",
   "execution_count": null,
   "metadata": {
    "_uuid": "16e33fb75f6298a60f1bc8d6a42f56cc8d30c118"
   },
   "outputs": [],
   "source": [
    "X.shape"
   ]
  },
  {
   "cell_type": "code",
   "execution_count": null,
   "metadata": {
    "_uuid": "26e1c3a5ab9bc98a5e89287f0b187ab0fce5055a"
   },
   "outputs": [],
   "source": [
    "X = pd.get_dummies(X)\n",
    "test_X = pd.get_dummies(test)\n",
    "# X, test_X = X.align(test_X,join='left',axis=1)\n",
    "test_X.reindex(columns = X.columns, fill_value=0)\n"
   ]
  },
  {
   "cell_type": "code",
   "execution_count": null,
   "metadata": {
    "_uuid": "75f30c6894b662252cba247c024db328b1f0527b"
   },
   "outputs": [],
   "source": [
    "# ohe  = OneHotEncoder(categories = \"auto\")\n",
    "# X = ohe.fit(X)\n",
    "# test_X = ohe.transform(test_X)"
   ]
  },
  {
   "cell_type": "code",
   "execution_count": null,
   "metadata": {
    "_uuid": "2d79d81bc3692fe4c26a026dfcc2f4706f7915f6"
   },
   "outputs": [],
   "source": [
    "mean = X.mean(axis=0)\n",
    "std = X.std(axis=0)\n",
    "X = (X - mean)/std\n",
    "test_X = (test_X - mean)/std"
   ]
  },
  {
   "cell_type": "code",
   "execution_count": null,
   "metadata": {
    "_uuid": "d5965c6a6d0c90110800a22ae215c45b5b833608"
   },
   "outputs": [],
   "source": [
    "# X = X.dropna(axis=1)"
   ]
  },
  {
   "cell_type": "code",
   "execution_count": null,
   "metadata": {
    "_uuid": "14252965ab6148110f4cd60dc33f1205117bfd7e",
    "scrolled": false
   },
   "outputs": [],
   "source": [
    "X.shape"
   ]
  },
  {
   "cell_type": "code",
   "execution_count": null,
   "metadata": {
    "_uuid": "53a81e183fe3efdcb295ff26127474559cb6a5fc"
   },
   "outputs": [],
   "source": [
    "# print(X[\"Price\"].shape)\n",
    "X,t_X,y,t_y = train_test_split(X,y,random_state=42, test_size=0.2)"
   ]
  },
  {
   "cell_type": "code",
   "execution_count": null,
   "metadata": {
    "_uuid": "b9a6ce56601c31100a4edf10d2ac2782e6b0a700"
   },
   "outputs": [],
   "source": [
    "print(test_X.shape)"
   ]
  },
  {
   "cell_type": "code",
   "execution_count": null,
   "metadata": {
    "_uuid": "38a91ddfed535fa51934ac6f6e48f8b7a34b335a"
   },
   "outputs": [],
   "source": [
    "model = Sequential([keras.layers.Dense(64, activation=tf.nn.relu,\n",
    "                       input_shape=(X.shape[1],)),\n",
    "                    keras.layers.Dense(64, activation=tf.nn.relu),\n",
    "    keras.layers.Dense(1)])"
   ]
  },
  {
   "cell_type": "code",
   "execution_count": null,
   "metadata": {
    "_uuid": "e4b750ce948f6981ab8932078c9b0da7557095d6"
   },
   "outputs": [],
   "source": [
    "model.weights"
   ]
  },
  {
   "cell_type": "code",
   "execution_count": null,
   "metadata": {
    "_uuid": "7886087ee01a6522ac5961c82072717a9bc61c59"
   },
   "outputs": [],
   "source": [
    "sgd = optimizers.SGD(lr=0.1, decay=1e-6, momentum=0.9, nesterov=True)\n",
    "model.compile(loss=keras.losses.mean_squared_error,\n",
    "              optimizer=\"ADAM\",\n",
    "              metrics=['mae'])"
   ]
  },
  {
   "cell_type": "code",
   "execution_count": null,
   "metadata": {
    "_uuid": "dd17750a5e8cbb68d6600a98d13be18f6713676d"
   },
   "outputs": [],
   "source": [
    "y = np.array(y) "
   ]
  },
  {
   "cell_type": "code",
   "execution_count": null,
   "metadata": {
    "_uuid": "5136e8225efcfe0480b324ddd691d3f963ff447f"
   },
   "outputs": [],
   "source": []
  },
  {
   "cell_type": "code",
   "execution_count": null,
   "metadata": {
    "_uuid": "63e9fdb03383fbf862a59b9f9ea6ca6326b34a11"
   },
   "outputs": [],
   "source": [
    "X.shape"
   ]
  },
  {
   "cell_type": "code",
   "execution_count": null,
   "metadata": {
    "_uuid": "96c1dff7ee5a348916aa5e28ab076d2ad55d8b0d",
    "scrolled": false
   },
   "outputs": [],
   "source": [
    "model.fit(X, y,\n",
    "          batch_size=256,\n",
    "          epochs=5,\n",
    "          validation_split = 0.3)"
   ]
  },
  {
   "cell_type": "code",
   "execution_count": null,
   "metadata": {
    "_uuid": "9382de0a6daecbf55df4b681ffa4bf39c20489d5",
    "scrolled": true
   },
   "outputs": [],
   "source": [
    "model.summary()"
   ]
  },
  {
   "cell_type": "code",
   "execution_count": null,
   "metadata": {
    "_uuid": "0cee138355bdd5ab9bd06772aae44bcd38ec0abc"
   },
   "outputs": [],
   "source": [
    "test_X.shape"
   ]
  },
  {
   "cell_type": "code",
   "execution_count": null,
   "metadata": {
    "_uuid": "a721adc9cfb94dd90bdab4413dbe1f020c2ede30",
    "scrolled": true
   },
   "outputs": [],
   "source": [
    "model.evaluate(t_X,t_y)"
   ]
  },
  {
   "cell_type": "code",
   "execution_count": null,
   "metadata": {
    "_uuid": "5983505090d9b5d67c0b10c0a05b5fe95e9f1259"
   },
   "outputs": [],
   "source": [
    "test_X = test_X.dropna(axis=1)"
   ]
  },
  {
   "cell_type": "code",
   "execution_count": null,
   "metadata": {
    "_uuid": "7606f04fbf146d18bb737a581219881bc4e289d9"
   },
   "outputs": [],
   "source": [
    "test_X.shape"
   ]
  },
  {
   "cell_type": "code",
   "execution_count": null,
   "metadata": {
    "_uuid": "fb91427d856782ad8fb8f597cf51c91811a31fa0"
   },
   "outputs": [],
   "source": [
    "for i in test_X.loc[0].isna():\n",
    "    if i == True:\n",
    "        print(\"Yes\")\n",
    "\n"
   ]
  },
  {
   "cell_type": "code",
   "execution_count": null,
   "metadata": {
    "_uuid": "085601010cf0ba3466b89dc0154fbcf86568063e"
   },
   "outputs": [],
   "source": [
    "model.predict(test_X)"
   ]
  },
  {
   "cell_type": "code",
   "execution_count": null,
   "metadata": {
    "_uuid": "b9bb3cb7e114a689613033ef4cd84e4c98ddc294"
   },
   "outputs": [],
   "source": []
  }
 ],
 "metadata": {
  "kernelspec": {
   "display_name": "Python 3",
   "language": "python",
   "name": "python3"
  },
  "language_info": {
   "codemirror_mode": {
    "name": "ipython",
    "version": 3
   },
   "file_extension": ".py",
   "mimetype": "text/x-python",
   "name": "python",
   "nbconvert_exporter": "python",
   "pygments_lexer": "ipython3",
   "version": "3.6.8"
  }
 },
 "nbformat": 4,
 "nbformat_minor": 1
}
